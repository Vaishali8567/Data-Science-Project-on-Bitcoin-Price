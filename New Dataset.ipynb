{
 "cells": [
  {
   "cell_type": "code",
   "execution_count": 9,
   "id": "18a19ff5-7c32-4066-b558-c430ea40229d",
   "metadata": {},
   "outputs": [
    {
     "name": "stdout",
     "output_type": "stream",
     "text": [
      "Datasets merged successfully!\n"
     ]
    }
   ],
   "source": [
    "import pandas as pd\n",
    "\n",
    "# Load datasets\n",
    "crypto_df = pd.read_csv(r\"C:\\Users\\vaish\\OneDrive\\UH\\Project\\coin_Bitcoin.csv\")\n",
    "macro_df = pd.read_csv(r\"C:\\Users\\vaish\\OneDrive\\UH\\Project\\economic_indicators.csv\")\n",
    "\n",
    "# Convert date columns to datetime format\n",
    "crypto_df['Date'] = pd.to_datetime(crypto_df['Date'])\n",
    "macro_df['Date'] = pd.to_datetime(macro_df['Date'])\n",
    "\n",
    "# Select only numeric columns for resampling\n",
    "numeric_columns = crypto_df.select_dtypes(include=['number']).columns\n",
    "\n",
    "# Resample crypto data to monthly to match macroeconomic data frequency\n",
    "crypto_df = crypto_df.set_index('Date').resample('ME')[numeric_columns].mean().reset_index()\n",
    "\n",
    "# Merge datasets on Date\n",
    "merged_df = pd.merge(crypto_df, macro_df, on='Date', how='left')\n",
    "\n",
    "# Handle missing values (e.g., forward fill)\n",
    "merged_df.ffill(inplace=True)\n",
    "\n",
    "# Save the final dataset\n",
    "merged_df.to_csv(\"merged_crypto_macro_data.csv\", index=False)\n",
    "\n",
    "print(\"Datasets merged successfully!\")"
   ]
  },
  {
   "cell_type": "code",
   "execution_count": null,
   "id": "a99cb6c8-1cd5-4651-8a89-cb2f8925b9d9",
   "metadata": {},
   "outputs": [],
   "source": []
  }
 ],
 "metadata": {
  "kernelspec": {
   "display_name": "Python [conda env:base] *",
   "language": "python",
   "name": "conda-base-py"
  },
  "language_info": {
   "codemirror_mode": {
    "name": "ipython",
    "version": 3
   },
   "file_extension": ".py",
   "mimetype": "text/x-python",
   "name": "python",
   "nbconvert_exporter": "python",
   "pygments_lexer": "ipython3",
   "version": "3.12.3"
  }
 },
 "nbformat": 4,
 "nbformat_minor": 5
}
