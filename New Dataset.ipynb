{
 "cells": [
  {
   "cell_type": "code",
   "execution_count": 21,
   "id": "8aac2391-0fa6-4bf7-80d5-6bb686063ffc",
   "metadata": {},
   "outputs": [],
   "source": [
    "# Import necessary libraries\n",
    "import pandas as pd\n",
    "import numpy as np\n",
    "\n",
    "# Load and Preprocess Data\n",
    "\n",
    "# Load Bitcoin historical data\n",
    "crypto_df = pd.read_csv(r\"C:\\Users\\vaish\\OneDrive\\UH\\Project\\coin_Bitcoin.csv\")\n",
    "\n",
    "# Load Macroeconomic Indicators data\n",
    "macro_df = pd.read_csv(r\"C:\\Users\\vaish\\OneDrive\\UH\\Project\\economic_indicators.csv\")\n",
    "\n",
    "# Convert Date columns to datetime format\n",
    "crypto_df['Date'] = pd.to_datetime(crypto_df['Date'])\n",
    "macro_df['Date'] = pd.to_datetime(macro_df['Date'])\n",
    "\n",
    "# Drop 'SNo' column if it exists (it does not add analytical value)\n",
    "crypto_df.drop(columns=['SNo'], inplace=True, errors='ignore')\n"
   ]
  },
  {
   "cell_type": "code",
   "execution_count": 23,
   "id": "64975bdf-ded2-4cb8-9048-8b974801c52c",
   "metadata": {},
   "outputs": [],
   "source": [
    "# Preprocessing\n",
    "\n",
    "# Resample Cryptocurrency Data to Monthly Frequency\n",
    "\n",
    "# Select only numeric columns for resampling\n",
    "numeric_columns = crypto_df.select_dtypes(include=['number']).columns\n",
    "\n",
    "# Resample the dataset to monthly frequency (ME = Month End)\n",
    "crypto_df = crypto_df.set_index('Date').resample('ME')[numeric_columns].mean().reset_index()\n",
    "\n",
    "# Merge Cryptocurrency Data with Macroeconomic Data\n",
    "\n",
    "# Merge datasets on 'Date' using a left join\n",
    "merged_df = pd.merge(crypto_df, macro_df, on='Date', how='left')\n",
    "\n",
    "# Handle missing values using forward fill (ffill ensures consistent data)\n",
    "merged_df.ffill(inplace=True)"
   ]
  },
  {
   "cell_type": "code",
   "execution_count": 25,
   "id": "b115dd99-06a5-4fbc-971d-40621de2fb03",
   "metadata": {},
   "outputs": [
    {
     "name": "stdout",
     "output_type": "stream",
     "text": [
      "Merged dataset saved successfully!\n"
     ]
    }
   ],
   "source": [
    "# Select Key Countries for Analysis\n",
    "\n",
    "# Define selected countries for a balanced, in-depth analysis\n",
    "selected_countries = ['USA', 'China', 'Germany', 'UK', 'India']\n",
    "\n",
    "# Drop 'Unemployment Rate (%)' as it is less relevant to Bitcoin price movements\n",
    "merged_df.drop(columns=['Unemployment Rate (%)'], inplace=True, errors='ignore')\n",
    "\n",
    "# Filter dataset for the selected countries only\n",
    "merged_df = merged_df[merged_df['Country'].isin(selected_countries)]\n",
    "\n",
    "# Save merged dataset BEFORE feature engineering\n",
    "merged_df.to_csv(r\"C:\\Users\\vaish\\OneDrive\\UH\\Project\\merged_crypto_macro_data.csv\", index=False)\n",
    "print(\"Merged dataset saved successfully!\")"
   ]
  },
  {
   "cell_type": "code",
   "execution_count": null,
   "id": "a2fdfc75-e1db-44ae-8ff3-5513c581c4a5",
   "metadata": {},
   "outputs": [],
   "source": []
  }
 ],
 "metadata": {
  "kernelspec": {
   "display_name": "Python [conda env:base] *",
   "language": "python",
   "name": "conda-base-py"
  },
  "language_info": {
   "codemirror_mode": {
    "name": "ipython",
    "version": 3
   },
   "file_extension": ".py",
   "mimetype": "text/x-python",
   "name": "python",
   "nbconvert_exporter": "python",
   "pygments_lexer": "ipython3",
   "version": "3.12.3"
  }
 },
 "nbformat": 4,
 "nbformat_minor": 5
}
